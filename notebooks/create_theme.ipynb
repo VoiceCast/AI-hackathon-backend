{
 "cells": [
  {
   "cell_type": "code",
   "execution_count": 38,
   "metadata": {},
   "outputs": [],
   "source": [
    "from openai import OpenAI\n",
    "import os\n",
    "import pandas as pd"
   ]
  },
  {
   "cell_type": "code",
   "execution_count": 64,
   "metadata": {},
   "outputs": [],
   "source": [
    "create_prompt = \"\"\"\n",
    "#指令\n",
    "漫才のテーマを5つ考えて下さい。\n",
    "考えた5つのテーマをJSON形式で出力して下さい。\n",
    "テーマはお笑いの要素を含みつつ独自性のあるものを考えて下さい。\n",
    "\n",
    "#形式\n",
    "{\n",
    "    \"themes\": [\n",
    "        {\n",
    "            \"theme\": \"~~~\"\n",
    "            \"description\":\"~~~\"\n",
    "        },\n",
    "        {\n",
    "            \"theme\": \"~~~\"\n",
    "            \"description\":\"~~~\"\n",
    "        },\n",
    "        {\n",
    "            \"theme\": \"~~~\"\n",
    "            \"description\":\"~~~\"\n",
    "        },\n",
    "        {\n",
    "            \"theme\": \"~~~\"\n",
    "            \"description\":\"~~~\"\n",
    "        },\n",
    "        {\n",
    "            \"theme\": \"~~~\"\n",
    "            \"description\":\"~~~\"\n",
    "        }\n",
    "    ]\n",
    "}\n",
    "\"\"\"\n"
   ]
  },
  {
   "metadata": {},
   "cell_type": "code",
   "outputs": [],
   "execution_count": null,
   "source": ""
  },
  {
   "cell_type": "code",
   "execution_count": 73,
   "metadata": {},
   "outputs": [
    {
     "name": "stdout",
     "output_type": "stream",
     "text": [
      "{\n",
      "    \"themes\": [\n",
      "        {\n",
      "            \"theme\": \"AIの友達\",\n",
      "            \"description\": \"AIと人間の友情をテーマに、実際の会話のズレや面白さをネタにする。AIが提案する奇妙なアドバイスや、無邪気な質問攻めに人間が困惑する様子を描く。\"\n",
      "        },\n",
      "        {\n",
      "            \"theme\": \"タイムトラベル失敗\",\n",
      "            \"description\": \"タイムトラベルを試みたが、異なる時代に行ってしまった主人公が引き起こす笑い。歴史上の人物との勘違いや、未来のテクノロジーに戸惑う姿をコミカルに表現。\"\n",
      "        },\n",
      "        {\n",
      "            \"theme\": \"異世界転生の勘違い\",\n",
      "            \"description\": \"異世界に転生したと勘違いしている主人公が、実は普通の田舎町での出来事を異世界として解釈するコント。地元の人々とのやり取りが非現実的な冒険に見える様子を描く。\"\n",
      "        },\n",
      "        {\n",
      "            \"theme\": \"サブスク依存症\",\n",
      "            \"description\": \"様々なサブスクリプションサービスに依存している人々の生活を描く。次々と増えていく契約や、特典に振り回される様子が笑いを誘う。\"\n",
      "        },\n",
      "        {\n",
      "            \"theme\": \"キャンプファイヤーの真実\",\n",
      "            \"description\": \"キャンプファイヤーでの話がいつの間にか壮大な冒険物語に変わっていくネタ。話を膨らませるうちにおかしな方向に行く様子や、最後には現実に戻ってくるパロディを描く。\"\n",
      "        }\n",
      "    ]\n",
      "}\n"
     ]
    }
   ],
   "source": [
    "os.environ[\"OPENAI_API_KEY\"] = 'sk-proj-oe30b8Z99Nohba67gNBfT3BlbkFJyBOx3HcXhrPfkAzAfbvc'\n",
    "client = OpenAI()\n",
    "\n",
    "\n",
    "model = \"gpt-4o-mini-2024-07-18\"\n",
    "#model = \"gpt-4o-2024-08-06\"\n",
    "#model = \"o1-mini-2024-09-12\"\n",
    "#model = \"o1-2024-12-17\"\n",
    "#model = \"o3-mini-2025-01-31\"\n",
    "\n",
    "response = client.chat.completions.create(\n",
    "    model = model,\n",
    "    #response_format={\"type\":\"json_object\"},\n",
    "    messages =  [\n",
    "    {\"role\":\"user\",\"content\":create_prompt}\n",
    "    ]\n",
    ")\n",
    "\n",
    "\n",
    "print(response.choices[0].message.content)"
   ]
  },
  {
   "cell_type": "code",
   "execution_count": 74,
   "metadata": {},
   "outputs": [],
   "source": [
    "log_text = f\"\"\"\n",
    "【使用モデル】\n",
    "{model}\n",
    "\n",
    "【出力結果】\n",
    "{response.choices[0].message.content}\n",
    "\n",
    "\"\"\"\n",
    "\n",
    "datetime_now = pd.Timestamp.now().strftime('%Y%m%d_%H%M%S')\n",
    "with open(f'../logs/theme_{datetime_now}.txt', 'w') as f:\n",
    "    f.write(log_text)\n"
   ]
  }
 ],
 "metadata": {
  "kernelspec": {
   "display_name": "3.11.0",
   "language": "python",
   "name": "python3"
  },
  "language_info": {
   "codemirror_mode": {
    "name": "ipython",
    "version": 3
   },
   "file_extension": ".py",
   "mimetype": "text/x-python",
   "name": "python",
   "nbconvert_exporter": "python",
   "pygments_lexer": "ipython3",
   "version": "3.11.0"
  }
 },
 "nbformat": 4,
 "nbformat_minor": 2
}
