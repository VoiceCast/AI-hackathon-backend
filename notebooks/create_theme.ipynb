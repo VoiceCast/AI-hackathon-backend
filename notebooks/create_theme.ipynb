{
 "cells": [
  {
   "cell_type": "code",
   "execution_count": 38,
   "metadata": {},
   "outputs": [],
   "source": [
    "from openai import OpenAI\n",
    "import os\n",
    "import pandas as pd"
   ]
  },
  {
   "cell_type": "code",
   "execution_count": 39,
   "metadata": {},
   "outputs": [],
   "source": [
    "create_prompt = \"\"\"\n",
    "#指令\n",
    "漫才のテーマを5つ考えて下さい。\n",
    "考えた5つのテーマをJSON形式で出力して下さい。\n",
    "\n",
    "#形式\n",
    "{\n",
    "    \"themes\": [\n",
    "        {\n",
    "            \"theme\": \"~~~\"\n",
    "            \"description\":\"~~~\"\n",
    "        },\n",
    "        {\n",
    "            \"theme\": \"~~~\"\n",
    "            \"description\":\"~~~\"\n",
    "        },\n",
    "        {\n",
    "            \"theme\": \"~~~\"\n",
    "            \"description\":\"~~~\"\n",
    "        },\n",
    "        {\n",
    "            \"theme\": \"~~~\"\n",
    "            \"description\":\"~~~\"\n",
    "        },\n",
    "        {\n",
    "            \"theme\": \"~~~\"\n",
    "            \"description\":\"~~~\"\n",
    "        }\n",
    "    ]\n",
    "}\n",
    "\"\"\"\n"
   ]
  },
  {
   "cell_type": "code",
   "execution_count": 44,
   "metadata": {},
   "outputs": [
    {
     "name": "stdout",
     "output_type": "stream",
     "text": [
      "{\n",
      "    \"themes\": [\n",
      "        {\n",
      "            \"theme\": \"都会と田舎の違い\",\n",
      "            \"description\": \"都会の喧騒と田舎ののんびりした日常を対比し、互いのライフスタイルや価値観の違いを笑いに変えるテーマです。\"\n",
      "        },\n",
      "        {\n",
      "            \"theme\": \"SNS世代の葛藤\",\n",
      "            \"description\": \"SNS中毒やネット上のコミュニケーションの苦労、デジタルとリアルのギャップを題材にした漫才です。\"\n",
      "        },\n",
      "        {\n",
      "            \"theme\": \"古き良き昔と現代の比較\",\n",
      "            \"description\": \"昭和と令和、世代間の価値観の違いや生活習慣、流行の変化などを笑いに変えるテーマです。\"\n",
      "        },\n",
      "        {\n",
      "            \"theme\": \"職場のあるある\",\n",
      "            \"description\": \"オフィス内のユニークな人間関係や社内の小さなエピソード、上司・部下の掛け合いを漫才にするテーマです。\"\n",
      "        },\n",
      "        {\n",
      "            \"theme\": \"家族の日常\",\n",
      "            \"description\": \"家族内のコミカルなエピソード、親子や兄弟の間に起こる面白おかしい出来事を素材にした漫才です。\"\n",
      "        }\n",
      "    ]\n",
      "}\n"
     ]
    }
   ],
   "source": [
    "os.environ[\"OPENAI_API_KEY\"] = 'sk-proj-oe30b8Z99Nohba67gNBfT3BlbkFJyBOx3HcXhrPfkAzAfbvc'\n",
    "client = OpenAI()\n",
    "\n",
    "\n",
    "model = \"o3-mini-2025-01-31\"\n",
    "\n",
    "response = client.chat.completions.create(\n",
    "    model = model,\n",
    "    #response_format={\"type\":\"json_object\"},\n",
    "    messages =  [\n",
    "    {\"role\":\"user\",\"content\":create_prompt}\n",
    "    ]\n",
    ")\n",
    "\n",
    "\n",
    "print(response.choices[0].message.content)"
   ]
  },
  {
   "cell_type": "code",
   "execution_count": 45,
   "metadata": {},
   "outputs": [],
   "source": [
    "log_text = f\"\"\"\n",
    "【使用モデル】\n",
    "{model}\n",
    "\n",
    "【出力結果】\n",
    "{response.choices[0].message.content}\n",
    "\n",
    "\"\"\"\n",
    "\n",
    "datetime_now = pd.Timestamp.now().strftime('%Y%m%d_%H%M%S')\n",
    "with open(f'../logs/theme_{datetime_now}.txt', 'w') as f:\n",
    "    f.write(log_text)\n"
   ]
  }
 ],
 "metadata": {
  "kernelspec": {
   "display_name": "3.11.0",
   "language": "python",
   "name": "python3"
  },
  "language_info": {
   "codemirror_mode": {
    "name": "ipython",
    "version": 3
   },
   "file_extension": ".py",
   "mimetype": "text/x-python",
   "name": "python",
   "nbconvert_exporter": "python",
   "pygments_lexer": "ipython3",
   "version": "3.11.0"
  }
 },
 "nbformat": 4,
 "nbformat_minor": 2
}
